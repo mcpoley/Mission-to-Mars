{
 "cells": [
  {
   "cell_type": "code",
   "execution_count": 4,
   "metadata": {},
   "outputs": [
    {
     "name": "stdout",
     "output_type": "stream",
     "text": [
      "Collecting splinter\n",
      "  Using cached splinter-0.14.0-py3-none-any.whl (36 kB)\n",
      "Collecting selenium>=3.141.0\n",
      "  Using cached selenium-3.141.0-py2.py3-none-any.whl (904 kB)\n",
      "Requirement already satisfied: six in /Users/Mark/opt/anaconda3/lib/python3.8/site-packages (from splinter) (1.15.0)\n",
      "Requirement already satisfied: urllib3 in /Users/Mark/opt/anaconda3/lib/python3.8/site-packages (from selenium>=3.141.0->splinter) (1.25.9)\n",
      "Installing collected packages: selenium, splinter\n",
      "Successfully installed selenium-3.141.0 splinter-0.14.0\n",
      "Note: you may need to restart the kernel to use updated packages.\n"
     ]
    }
   ],
   "source": [
    "pip install splinter"
   ]
  },
  {
   "cell_type": "code",
   "execution_count": 2,
   "metadata": {},
   "outputs": [
    {
     "name": "stdout",
     "output_type": "stream",
     "text": [
      "Collecting webdriver_manager\n",
      "  Using cached webdriver_manager-3.2.2-py2.py3-none-any.whl (16 kB)\n",
      "Requirement already satisfied: requests in /Users/Mark/opt/anaconda3/lib/python3.8/site-packages (from webdriver_manager) (2.24.0)\n",
      "Collecting crayons\n",
      "  Using cached crayons-0.4.0-py2.py3-none-any.whl (4.6 kB)\n",
      "Collecting configparser\n",
      "  Using cached configparser-5.0.1-py3-none-any.whl (22 kB)\n",
      "Requirement already satisfied: urllib3!=1.25.0,!=1.25.1,<1.26,>=1.21.1 in /Users/Mark/opt/anaconda3/lib/python3.8/site-packages (from requests->webdriver_manager) (1.25.9)\n",
      "Requirement already satisfied: certifi>=2017.4.17 in /Users/Mark/opt/anaconda3/lib/python3.8/site-packages (from requests->webdriver_manager) (2020.6.20)\n",
      "Requirement already satisfied: idna<3,>=2.5 in /Users/Mark/opt/anaconda3/lib/python3.8/site-packages (from requests->webdriver_manager) (2.10)\n",
      "Requirement already satisfied: chardet<4,>=3.0.2 in /Users/Mark/opt/anaconda3/lib/python3.8/site-packages (from requests->webdriver_manager) (3.0.4)\n",
      "Requirement already satisfied: colorama in /Users/Mark/opt/anaconda3/lib/python3.8/site-packages (from crayons->webdriver_manager) (0.4.3)\n",
      "Installing collected packages: crayons, configparser, webdriver-manager\n",
      "Successfully installed configparser-5.0.1 crayons-0.4.0 webdriver-manager-3.2.2\n",
      "Note: you may need to restart the kernel to use updated packages.\n"
     ]
    }
   ],
   "source": [
    "pip install webdriver_manager"
   ]
  },
  {
   "cell_type": "code",
   "execution_count": null,
   "metadata": {},
   "outputs": [],
   "source": [
    " "
   ]
  },
  {
   "cell_type": "code",
   "execution_count": 1,
   "metadata": {},
   "outputs": [],
   "source": [
    "from splinter import Browser\n",
    "from bs4 import BeautifulSoup as soup\n",
    "from webdriver_manager.chrome import ChromeDriverManager"
   ]
  },
  {
   "cell_type": "code",
   "execution_count": 14,
   "metadata": {},
   "outputs": [
    {
     "name": "stderr",
     "output_type": "stream",
     "text": [
      "[WDM] - Current google-chrome version is 87.0.4280\n",
      "[WDM] - Get LATEST driver version for 87.0.4280\n"
     ]
    },
    {
     "name": "stdout",
     "output_type": "stream",
     "text": [
      " \n"
     ]
    },
    {
     "name": "stderr",
     "output_type": "stream",
     "text": [
      "[WDM] - Driver [/Users/Mark/.wdm/drivers/chromedriver/mac64/87.0.4280.88/chromedriver] found in cache\n"
     ]
    }
   ],
   "source": [
    "# Setup splinter\n",
    "executable_path={'executable_path': ChromeDriverManager().install()}\n",
    "browser=Browser('chrome', **executable_path, headless=False)"
   ]
  },
  {
   "cell_type": "code",
   "execution_count": 3,
   "metadata": {},
   "outputs": [],
   "source": [
    "# Visit the Quotes to Scrape site\n",
    "url = 'http://quotes.toscrape.com/'\n",
    "browser.visit(url)"
   ]
  },
  {
   "cell_type": "code",
   "execution_count": 4,
   "metadata": {},
   "outputs": [],
   "source": [
    "# Parse the HTML\n",
    "html = browser.html\n",
    "html_soup = soup(html, 'html.parser')"
   ]
  },
  {
   "cell_type": "code",
   "execution_count": 5,
   "metadata": {},
   "outputs": [
    {
     "data": {
      "text/plain": [
       "'Top Ten tags'"
      ]
     },
     "execution_count": 5,
     "metadata": {},
     "output_type": "execute_result"
    }
   ],
   "source": [
    "#Scrape the Title\n",
    "title=html_soup.find('h2').text\n",
    "title"
   ]
  },
  {
   "cell_type": "code",
   "execution_count": 6,
   "metadata": {},
   "outputs": [
    {
     "name": "stdout",
     "output_type": "stream",
     "text": [
      "love\n",
      "inspirational\n",
      "life\n",
      "humor\n",
      "books\n",
      "reading\n",
      "friendship\n",
      "friends\n",
      "truth\n",
      "simile\n"
     ]
    }
   ],
   "source": [
    "# Scrape the top ten tags\n",
    "tag_box=html_soup.find('div', class_='tags-box')\n",
    "# tag_box\n",
    "tags=tag_box.find_all('a', class_= 'tag')\n",
    "\n",
    "for tag in tags:\n",
    "    word = tag.text\n",
    "    print(word)"
   ]
  },
  {
   "cell_type": "code",
   "execution_count": 7,
   "metadata": {},
   "outputs": [],
   "source": [
    "url = 'http://quotes.toscrape.com/'\n",
    "browser.visit(url)"
   ]
  },
  {
   "cell_type": "code",
   "execution_count": 9,
   "metadata": {},
   "outputs": [
    {
     "name": "stdout",
     "output_type": "stream",
     "text": [
      "page: 1 _____________\n",
      "“The world as we have created it is a process of our thinking. It cannot be changed without changing our thinking.”\n",
      "page: 1 _____________\n",
      "“It is our choices, Harry, that show what we truly are, far more than our abilities.”\n",
      "page: 1 _____________\n",
      "“There are only two ways to live your life. One is as though nothing is a miracle. The other is as though everything is a miracle.”\n",
      "page: 1 _____________\n",
      "“The person, be it gentleman or lady, who has not pleasure in a good novel, must be intolerably stupid.”\n",
      "page: 1 _____________\n",
      "“Imperfection is beauty, madness is genius and it's better to be absolutely ridiculous than absolutely boring.”\n",
      "page: 1 _____________\n",
      "“Try not to become a man of success. Rather become a man of value.”\n",
      "page: 1 _____________\n",
      "“It is better to be hated for what you are than to be loved for what you are not.”\n",
      "page: 1 _____________\n",
      "“I have not failed. I've just found 10,000 ways that won't work.”\n",
      "page: 1 _____________\n",
      "“A woman is like a tea bag; you never know how strong it is until it's in hot water.”\n",
      "page: 1 _____________\n",
      "“A day without sunshine is like, you know, night.”\n",
      "page: 2 _____________\n",
      "“The world as we have created it is a process of our thinking. It cannot be changed without changing our thinking.”\n",
      "page: 2 _____________\n",
      "“It is our choices, Harry, that show what we truly are, far more than our abilities.”\n",
      "page: 2 _____________\n",
      "“There are only two ways to live your life. One is as though nothing is a miracle. The other is as though everything is a miracle.”\n",
      "page: 2 _____________\n",
      "“The person, be it gentleman or lady, who has not pleasure in a good novel, must be intolerably stupid.”\n",
      "page: 2 _____________\n",
      "“Imperfection is beauty, madness is genius and it's better to be absolutely ridiculous than absolutely boring.”\n",
      "page: 2 _____________\n",
      "“Try not to become a man of success. Rather become a man of value.”\n",
      "page: 2 _____________\n",
      "“It is better to be hated for what you are than to be loved for what you are not.”\n",
      "page: 2 _____________\n",
      "“I have not failed. I've just found 10,000 ways that won't work.”\n",
      "page: 2 _____________\n",
      "“A woman is like a tea bag; you never know how strong it is until it's in hot water.”\n",
      "page: 2 _____________\n",
      "“A day without sunshine is like, you know, night.”\n",
      "page: 3 _____________\n",
      "“The world as we have created it is a process of our thinking. It cannot be changed without changing our thinking.”\n",
      "page: 3 _____________\n",
      "“It is our choices, Harry, that show what we truly are, far more than our abilities.”\n",
      "page: 3 _____________\n",
      "“There are only two ways to live your life. One is as though nothing is a miracle. The other is as though everything is a miracle.”\n",
      "page: 3 _____________\n",
      "“The person, be it gentleman or lady, who has not pleasure in a good novel, must be intolerably stupid.”\n",
      "page: 3 _____________\n",
      "“Imperfection is beauty, madness is genius and it's better to be absolutely ridiculous than absolutely boring.”\n",
      "page: 3 _____________\n",
      "“Try not to become a man of success. Rather become a man of value.”\n",
      "page: 3 _____________\n",
      "“It is better to be hated for what you are than to be loved for what you are not.”\n",
      "page: 3 _____________\n",
      "“I have not failed. I've just found 10,000 ways that won't work.”\n",
      "page: 3 _____________\n",
      "“A woman is like a tea bag; you never know how strong it is until it's in hot water.”\n",
      "page: 3 _____________\n",
      "“A day without sunshine is like, you know, night.”\n",
      "page: 4 _____________\n",
      "“The world as we have created it is a process of our thinking. It cannot be changed without changing our thinking.”\n",
      "page: 4 _____________\n",
      "“It is our choices, Harry, that show what we truly are, far more than our abilities.”\n",
      "page: 4 _____________\n",
      "“There are only two ways to live your life. One is as though nothing is a miracle. The other is as though everything is a miracle.”\n",
      "page: 4 _____________\n",
      "“The person, be it gentleman or lady, who has not pleasure in a good novel, must be intolerably stupid.”\n",
      "page: 4 _____________\n",
      "“Imperfection is beauty, madness is genius and it's better to be absolutely ridiculous than absolutely boring.”\n",
      "page: 4 _____________\n",
      "“Try not to become a man of success. Rather become a man of value.”\n",
      "page: 4 _____________\n",
      "“It is better to be hated for what you are than to be loved for what you are not.”\n",
      "page: 4 _____________\n",
      "“I have not failed. I've just found 10,000 ways that won't work.”\n",
      "page: 4 _____________\n",
      "“A woman is like a tea bag; you never know how strong it is until it's in hot water.”\n",
      "page: 4 _____________\n",
      "“A day without sunshine is like, you know, night.”\n",
      "page: 5 _____________\n",
      "“The world as we have created it is a process of our thinking. It cannot be changed without changing our thinking.”\n",
      "page: 5 _____________\n",
      "“It is our choices, Harry, that show what we truly are, far more than our abilities.”\n",
      "page: 5 _____________\n",
      "“There are only two ways to live your life. One is as though nothing is a miracle. The other is as though everything is a miracle.”\n",
      "page: 5 _____________\n",
      "“The person, be it gentleman or lady, who has not pleasure in a good novel, must be intolerably stupid.”\n",
      "page: 5 _____________\n",
      "“Imperfection is beauty, madness is genius and it's better to be absolutely ridiculous than absolutely boring.”\n",
      "page: 5 _____________\n",
      "“Try not to become a man of success. Rather become a man of value.”\n",
      "page: 5 _____________\n",
      "“It is better to be hated for what you are than to be loved for what you are not.”\n",
      "page: 5 _____________\n",
      "“I have not failed. I've just found 10,000 ways that won't work.”\n",
      "page: 5 _____________\n",
      "“A woman is like a tea bag; you never know how strong it is until it's in hot water.”\n",
      "page: 5 _____________\n",
      "“A day without sunshine is like, you know, night.”\n"
     ]
    }
   ],
   "source": [
    "for x in range(1, 6):\n",
    "    html = browser.html\n",
    "    quote_soup=soup(html, 'html.parser')\n",
    "    quotes=quote_soup.find_all('span', class_='text')\n",
    "    for quote in quotes:\n",
    "        print('page:', x, '_____________')\n",
    "        print(quote.text)\n",
    "    browser.links.find_by_partial_text('Next')"
   ]
  },
  {
   "cell_type": "code",
   "execution_count": 10,
   "metadata": {},
   "outputs": [],
   "source": [
    "browser.quit()"
   ]
  },
  {
   "cell_type": "code",
   "execution_count": 15,
   "metadata": {},
   "outputs": [],
   "source": [
    "url='http://books.toscrape.com/'\n",
    "browser.visit(url)"
   ]
  },
  {
   "cell_type": "code",
   "execution_count": 16,
   "metadata": {},
   "outputs": [],
   "source": [
    "#parse html\n",
    "html=browser.html\n",
    "html_soup=soup(html, 'html.parser')"
   ]
  },
  {
   "cell_type": "code",
   "execution_count": 27,
   "metadata": {},
   "outputs": [
    {
     "name": "stdout",
     "output_type": "stream",
     "text": [
      "[]\n"
     ]
    }
   ],
   "source": [
    "#scrape title\n",
    "book_list=html_soup.find_all('a', class_='nav list' )\n",
    "print(book_list)"
   ]
  },
  {
   "cell_type": "code",
   "execution_count": null,
   "metadata": {},
   "outputs": [],
   "source": []
  }
 ],
 "metadata": {
  "kernelspec": {
   "display_name": "PythonData",
   "language": "python",
   "name": "pythondata"
  },
  "language_info": {
   "codemirror_mode": {
    "name": "ipython",
    "version": 3
   },
   "file_extension": ".py",
   "mimetype": "text/x-python",
   "name": "python",
   "nbconvert_exporter": "python",
   "pygments_lexer": "ipython3",
   "version": "3.8.3"
  }
 },
 "nbformat": 4,
 "nbformat_minor": 4
}
